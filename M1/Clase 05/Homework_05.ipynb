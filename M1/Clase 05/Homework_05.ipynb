{
 "cells": [
  {
   "cell_type": "markdown",
   "metadata": {},
   "source": [
    "# Práctica Clase 5"
   ]
  },
  {
   "cell_type": "markdown",
   "metadata": {},
   "source": [
    "1) Implementar un juego, que consista en apilar números enteros del 1 al 20, de forma aleatoria, para lo cual debe usarse una estructura de Pila. \n",
    "Luego, el usuario debe elegir un número de veces en que se va a quitar elementos de la pila, los cuales, sumados entre sí, no deben superar el valor de 50.\n",
    "El usuario pierde si la suma supera ese valor. Si no lo supera, gana, pero su calificación será 10 menos el número elementos que falten quitar para todavía no superar 50.\n",
    "El programa debe informar si perdió, y si ganó, con qué calificación lo hizo.\n",
    "\n",
    "Consideraciones:<br>\n",
    "a. Se puede usar la función input() para obtener una entrada de teclado.<br>\n",
    "b. Se puede usar la el modulo random para obtener valores aleatorios."
   ]
  },
  {
   "cell_type": "code",
   "execution_count": 46,
   "metadata": {},
   "outputs": [],
   "source": [
    "import random as r \n",
    "\n",
    "class JuegoPila:\n",
    "    def __init__(self):\n",
    "        #self.__lista = []\n",
    "        #while len(self.__lista) < 20:\n",
    "            #numero = r.randint(1, 20)\n",
    "            #if numero not in self.__lista: self.__lista.append(numero)\n",
    "        self.__lista = r.sample(range(1,21),20)\n",
    "        #print(self.__lista)\n",
    "    def __pop(self):\n",
    "        return self.__lista.pop()\n",
    "    \n",
    "    def __mostrarpila(self):\n",
    "        print(self.__lista)\n",
    "        \n",
    "    def jugar(self):\n",
    "        nro = input(\"Ingrese la cantidad de elementos a retirar: \")\n",
    "        while not nro.isdecimal() and int(nro) > 20:\n",
    "            nro = input(\"Ingrese la cantidad de elementos a retirar nuevamente (tiene que ser un numero entero): \")\n",
    "        nro = int(nro)\n",
    "        \n",
    "        print(\"Pila inicial: \")\n",
    "        self.__mostrarpila()\n",
    "        print(\"Cantidad de elementos a quitar:\", nro)\n",
    "        \n",
    "        calificacion = 10\n",
    "        suma = 0\n",
    "        for i in range(nro):\n",
    "            suma += self.__pop()\n",
    "        \n",
    "        print(\"Pila obtenida:\", suma)\n",
    "        self.__mostrarpila()\n",
    "        print(\"La cantidad de elementos quitados sumo:\", suma)\n",
    "        \n",
    "        if suma > 50:\n",
    "            print(\"Perdiste\")\n",
    "        else:\n",
    "            while suma <= 50:\n",
    "                suma += self.__pop()\n",
    "                if suma <= 50:\n",
    "                    calificacion -= 1\n",
    "            print(\"Ganaste\", calificacion)\n",
    "            \n",
    "        "
   ]
  },
  {
   "cell_type": "code",
   "execution_count": 49,
   "metadata": {},
   "outputs": [
    {
     "name": "stdout",
     "output_type": "stream",
     "text": [
      "Pila inicial: \n",
      "[17, 19, 15, 12, 18, 2, 5, 3, 9, 16, 10, 1, 13, 14, 4, 20, 8, 11, 6, 7]\n",
      "Cantidad de elementos a quitar: 4\n",
      "Pila obtenida: 32\n",
      "[17, 19, 15, 12, 18, 2, 5, 3, 9, 16, 10, 1, 13, 14, 4, 20]\n",
      "La cantidad de elementos quitados sumo: 32\n",
      "Ganaste 10\n"
     ]
    }
   ],
   "source": [
    "j = JuegoPila()\n",
    "j.jugar()"
   ]
  },
  {
   "cell_type": "markdown",
   "metadata": {},
   "source": [
    "2) Implementar un juego donde constas de 2 jarras, de capacidad 5 y 3 litros respectivamente, y debes colocar 4 litros en la jarra de 5L.\n",
    "Las opciones posibles son:\n",
    "* Llenar la jarra de 3 litros\n",
    "* Llenar la jarra de 5 litros\n",
    "* Vaciar la jarra de 3 litros\n",
    "* Vaciar la jarra de 5 litros\n",
    "* Verter el contenido de la jarra de 3 litros en la de 5 litros\n",
    "* Verter el contenido de la jarra de 5 litros en la de 3 litros"
   ]
  },
  {
   "cell_type": "code",
   "execution_count": null,
   "metadata": {},
   "outputs": [],
   "source": []
  }
 ],
 "metadata": {
  "kernelspec": {
   "display_name": "Python 3.10.8 64-bit (microsoft store)",
   "language": "python",
   "name": "python3"
  },
  "language_info": {
   "codemirror_mode": {
    "name": "ipython",
    "version": 3
   },
   "file_extension": ".py",
   "mimetype": "text/x-python",
   "name": "python",
   "nbconvert_exporter": "python",
   "pygments_lexer": "ipython3",
   "version": "3.10.8"
  },
  "vscode": {
   "interpreter": {
    "hash": "23f823caeccb1684f6bd50492b68bb5eab208de0408f39b2457c6a38c0e8e818"
   }
  }
 },
 "nbformat": 4,
 "nbformat_minor": 4
}
