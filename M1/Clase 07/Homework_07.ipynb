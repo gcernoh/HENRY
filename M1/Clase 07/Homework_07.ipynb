{
 "cells": [
  {
   "cell_type": "markdown",
   "metadata": {},
   "source": [
    "# Práctica Clase 7"
   ]
  },
  {
   "cell_type": "markdown",
   "metadata": {},
   "source": [
    "1) Diseñar una clase que permita trabajar con un árbol binario y que contenga los métodos:<br>\n",
    "    * insertaVal: para insertar un dato<br>\n",
    "    * buscaVal: que devuelva True o False si existe o no un dato<br>\n",
    "    * verVal: que imprima por pantalla los valores del árbol<br>\n",
    "\n",
    "Nota: Se puede utilizar la recursividad\n"
   ]
  },
  {
   "cell_type": "code",
   "execution_count": 1,
   "metadata": {},
   "outputs": [],
   "source": [
    "class Nodo():\n",
    "    def __init__(self, dato):\n",
    "        self.dato = dato\n",
    "        self.izq = None\n",
    "        self.der = None"
   ]
  },
  {
   "cell_type": "code",
   "execution_count": 2,
   "metadata": {},
   "outputs": [],
   "source": [
    "class Arbol():\n",
    "    def __init__(self):\n",
    "        self.raiz = None\n",
    "\n",
    "    def insertaVal(self, dato):\n",
    "        n = Nodo(dato)\n",
    "        if (self.raiz == None):\n",
    "            self.raiz = n\n",
    "        else:\n",
    "            puntero = self.raiz\n",
    "            if (puntero.izq == None):\n",
    "                puntero.izq = n\n",
    "            if (puntero.der == None):\n",
    "                puntero.der = n"
   ]
  },
  {
   "cell_type": "code",
   "execution_count": 3,
   "metadata": {},
   "outputs": [],
   "source": [
    "a = Arbol()"
   ]
  },
  {
   "cell_type": "code",
   "execution_count": 4,
   "metadata": {},
   "outputs": [],
   "source": [
    "a.insertaVal(2)"
   ]
  },
  {
   "cell_type": "code",
   "execution_count": 16,
   "metadata": {},
   "outputs": [],
   "source": [
    "class Nodo:\n",
    "    def __init__(self, dato):\n",
    "        self.left = None\n",
    "        self.right = None\n",
    "        self.dato = dato\n",
    "        \n",
    "    def insert(self, dato):\n",
    "        if self.dato == None:\n",
    "            self.dato = dato\n",
    "        else:\n",
    "            if dato < self.dato:\n",
    "                if self.left is None:\n",
    "                    self.left = Nodo(dato)\n",
    "                else:\n",
    "                    self.left.insert(dato)\n",
    "            elif dato > self.dato:\n",
    "                if self.right is None:\n",
    "                    self.right = Nodo(dato)\n",
    "                else:\n",
    "                    self.right.insert(dato)\n",
    "    \n",
    "    def search(self, dato):\n",
    "        if dato < self.dato:\n",
    "            if self.left is None:\n",
    "                return str(dato) + \" no encontrado\"\n",
    "            return self.left.search(dato)\n",
    "        elif dato > self.dato:\n",
    "            if self.right is None:\n",
    "                return str(dato) + \" no encontrado\"\n",
    "            return self.right.search(dato)\n",
    "        else:\n",
    "            return str(self.dato) + \" encontrado\"\n",
    "        \n",
    "    def view(self):\n",
    "        if self.left:\n",
    "            self.left.view()\n",
    "        print(self.dato)\n",
    "        if self.right:\n",
    "            self.right.view()\n",
    "        print(self.dato)\n",
    "    \n",
    "    def checkDupUtil(self, root, mini, maxi):\n",
    "        if root is None:\n",
    "            return True\n",
    "        if (root.dato < mini) or (root.dato > maxi):\n",
    "            return False\n",
    "        return (self.checkDupUtil(root.left, mini, root.dato -1) and\n",
    "                self.checkDupUtil(root.right, root.dato +1, maxi))"
   ]
  },
  {
   "cell_type": "code",
   "execution_count": 17,
   "metadata": {},
   "outputs": [
    {
     "name": "stdout",
     "output_type": "stream",
     "text": [
      "2\n",
      "2\n",
      "6\n",
      "7\n",
      "7\n",
      "6\n",
      "12\n",
      "14\n",
      "42\n",
      "42\n",
      "14\n",
      "12\n"
     ]
    }
   ],
   "source": [
    "root = Nodo(12)\n",
    "root.insert(6)\n",
    "root.insert(14)\n",
    "root.insert(42)\n",
    "root.insert(7)\n",
    "root.insert(2)\n",
    "\n",
    "\n",
    "root.view()\n",
    "    "
   ]
  }
 ],
 "metadata": {
  "kernelspec": {
   "display_name": "Python 3.10.8 64-bit (microsoft store)",
   "language": "python",
   "name": "python3"
  },
  "language_info": {
   "codemirror_mode": {
    "name": "ipython",
    "version": 3
   },
   "file_extension": ".py",
   "mimetype": "text/x-python",
   "name": "python",
   "nbconvert_exporter": "python",
   "pygments_lexer": "ipython3",
   "version": "3.10.8"
  },
  "vscode": {
   "interpreter": {
    "hash": "23f823caeccb1684f6bd50492b68bb5eab208de0408f39b2457c6a38c0e8e818"
   }
  }
 },
 "nbformat": 4,
 "nbformat_minor": 4
}
