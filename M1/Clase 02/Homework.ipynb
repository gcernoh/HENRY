{
 "cells": [
  {
   "cell_type": "markdown",
   "metadata": {},
   "source": [
    "# Práctica Clase 2"
   ]
  },
  {
   "cell_type": "markdown",
   "metadata": {},
   "source": [
    "1) Abrir el archivo \"Emisiones_CO2.csv\" y cargar sus datos en un diccionario."
   ]
  },
  {
   "cell_type": "code",
   "execution_count": 12,
   "metadata": {},
   "outputs": [],
   "source": [
    "import os\n",
    "archivo = open(r'C:\\Users\\Admin\\Documents\\HENRY\\M1\\Clase 02\\Emisiones_CO2.csv', encoding='Windows 1252')"
   ]
  },
  {
   "cell_type": "code",
   "execution_count": 3,
   "metadata": {},
   "outputs": [],
   "source": [
    "dicc_emisiones = {  'cod_pais' : [],\n",
    "                    'nom_pais' : [],\n",
    "                    'region' : [],\n",
    "                    'anio' : [],\n",
    "                    'co2' : [],\n",
    "                    'co2_percapita' : []}"
   ]
  },
  {
   "cell_type": "code",
   "execution_count": 24,
   "metadata": {},
   "outputs": [],
   "source": [
    "next(archivo)\n",
    "for linea in archivo:\n",
    "    linea = linea.strip()\n",
    "    campos = linea.split('|')\n",
    "    dicc_emisiones['cod_pais'].append(campos[0])\n",
    "    dicc_emisiones['nom_pais'].append(campos[1])\n",
    "    dicc_emisiones['region'].append(campos[2])\n",
    "    dicc_emisiones['anio'].append(campos[3])\n",
    "    dicc_emisiones['co2'].append(campos[4])\n",
    "    dicc_emisiones['co2_percapita'].append(campos[5])\n",
    "    "
   ]
  },
  {
   "cell_type": "code",
   "execution_count": 25,
   "metadata": {},
   "outputs": [],
   "source": [
    "archivo.close()"
   ]
  },
  {
   "cell_type": "code",
   "execution_count": 29,
   "metadata": {},
   "outputs": [
    {
     "name": "stdout",
     "output_type": "stream",
     "text": [
      "\n"
     ]
    }
   ],
   "source": [
    "print(dicc_emisiones['co2'][35])"
   ]
  },
  {
   "cell_type": "markdown",
   "metadata": {},
   "source": [
    "2) a) ¿Cuántas variables hay? <br>\n",
    "b) ¿Qué tipos de datos usar para cada una? <br>\n",
    "c) ¿Qué tipo de variables son? <br>\n",
    "d) ¿Hay valores faltantes? <br>\n",
    "e) ¿Cuál es el total de emisiones de CO2 para 'América Latina y Caribe' en el año 2010?"
   ]
  },
  {
   "cell_type": "code",
   "execution_count": 35,
   "metadata": {},
   "outputs": [],
   "source": [
    "def normalizacion(lista):\n",
    "    for indice, elemento in enumerate(lista):\n",
    "        if elemento:\n",
    "            elemento = elemento.replace('.', '')\n",
    "            elemento = elemento.replace(',', '')\n",
    "            elemento = float(elemento)\n",
    "        else: elemento  = None\n",
    "        lista[indice] = elemento\n",
    "    return lista"
   ]
  },
  {
   "cell_type": "code",
   "execution_count": 36,
   "metadata": {},
   "outputs": [],
   "source": [
    "dicc_emisiones['co2'] = normalizacion(dicc_emisiones['co2'])\n",
    "dicc_emisiones['co2_percapita'] = normalizacion(dicc_emisiones['co2_percapita'])"
   ]
  },
  {
   "cell_type": "code",
   "execution_count": 37,
   "metadata": {},
   "outputs": [],
   "source": [
    "for i in range(len(dicc_emisiones['anio'])):\n",
    "    dicc_emisiones['anio'][i] = int(dicc_emisiones['anio'][i])"
   ]
  },
  {
   "cell_type": "code",
   "execution_count": 41,
   "metadata": {},
   "outputs": [
    {
     "name": "stdout",
     "output_type": "stream",
     "text": [
      "Las emisioines en América Latina y Caribe en 2010 fueron de 171615603.0 kt\n"
     ]
    }
   ],
   "source": [
    "filtro_region = 'América Latina y Caribe'\n",
    "filtro_anio = 2010\n",
    "emisiones = 0\n",
    "for indice, elemento in enumerate(dicc_emisiones['region']):\n",
    "    if dicc_emisiones['region'][indice] == filtro_region and dicc_emisiones['anio'][indice] == filtro_anio and dicc_emisiones['co2'][indice] != None: emisiones += dicc_emisiones['co2'][indice]\n",
    "print(f'Las emisioines en {filtro_region} en {filtro_anio} fueron de {round(emisiones,3)} kt')"
   ]
  }
 ],
 "metadata": {
  "kernelspec": {
   "display_name": "Python 3.10.6 64-bit",
   "language": "python",
   "name": "python3"
  },
  "language_info": {
   "codemirror_mode": {
    "name": "ipython",
    "version": 3
   },
   "file_extension": ".py",
   "mimetype": "text/x-python",
   "name": "python",
   "nbconvert_exporter": "python",
   "pygments_lexer": "ipython3",
   "version": "3.10.8"
  },
  "orig_nbformat": 4,
  "vscode": {
   "interpreter": {
    "hash": "a42ccb73e7d9bfdf27e036f1d2b8b681e55fc0743cc5586bc2474d4a60f4b886"
   }
  }
 },
 "nbformat": 4,
 "nbformat_minor": 2
}
